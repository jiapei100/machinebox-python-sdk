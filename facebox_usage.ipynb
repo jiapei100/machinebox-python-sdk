{
 "cells": [
  {
   "cell_type": "markdown",
   "metadata": {},
   "source": [
    "Run facebox with: \n",
    "```\n",
    "sudo docker run -p 8080:8080 -e \"MB_KEY=$MB_KEY\" machinebox/facebox_noavx\n",
    "```"
   ]
  },
  {
   "cell_type": "code",
   "execution_count": 1,
   "metadata": {},
   "outputs": [],
   "source": [
    "from PIL import Image\n",
    "import io\n",
    "from facebox.facebox import FaceboxBox\n",
    "import matplotlib.pyplot as plt\n",
    "%matplotlib inline"
   ]
  },
  {
   "cell_type": "markdown",
   "metadata": {},
   "source": [
    "Test image to process"
   ]
  },
  {
   "cell_type": "code",
   "execution_count": 2,
   "metadata": {},
   "outputs": [],
   "source": [
    "file_path = 'resources/thebeatles.jpg'\n",
    "#file_path = 'README.md' # an invalid image\n",
    "#img = plt.imread(file_path)\n",
    "#plt.imshow(img);"
   ]
  },
  {
   "cell_type": "code",
   "execution_count": 3,
   "metadata": {},
   "outputs": [],
   "source": [
    "facebox = FaceboxBox() # ip_address='localhosty'"
   ]
  },
  {
   "cell_type": "code",
   "execution_count": 4,
   "metadata": {},
   "outputs": [
    {
     "name": "stdout",
     "output_type": "stream",
     "text": [
      "Processed resources/thebeatles.jpg and found 12 faces\n"
     ]
    }
   ],
   "source": [
    "facebox.process_file(file_path)"
   ]
  },
  {
   "cell_type": "code",
   "execution_count": 5,
   "metadata": {},
   "outputs": [
    {
     "data": {
      "text/plain": [
       "{'total_faces': 12,\n",
       " 'matched_faces': {'George_Harrison': 69.83,\n",
       "  'Paul_McCartney': 77.52,\n",
       "  'John_Lennon': 64.59,\n",
       "  'Ringo_Starr': 71.33},\n",
       " 'total_matched_faces': 4}"
      ]
     },
     "execution_count": 5,
     "metadata": {},
     "output_type": "execute_result"
    }
   ],
   "source": [
    "facebox.matched_faces"
   ]
  },
  {
   "cell_type": "code",
   "execution_count": 6,
   "metadata": {},
   "outputs": [
    {
     "data": {
      "text/plain": [
       "[{'name': None,\n",
       "  'image_id': None,\n",
       "  'confidence': 0.0,\n",
       "  'matched': False,\n",
       "  'bounding_box': {'top': 124, 'left': 636, 'width': 52, 'height': 52}},\n",
       " {'name': None,\n",
       "  'image_id': None,\n",
       "  'confidence': 0.0,\n",
       "  'matched': False,\n",
       "  'bounding_box': {'top': 129, 'left': 246, 'width': 62, 'height': 62}},\n",
       " {'name': None,\n",
       "  'image_id': None,\n",
       "  'confidence': 0.0,\n",
       "  'matched': False,\n",
       "  'bounding_box': {'top': 164, 'left': 711, 'width': 52, 'height': 52}},\n",
       " {'name': None,\n",
       "  'image_id': None,\n",
       "  'confidence': 0.0,\n",
       "  'matched': False,\n",
       "  'bounding_box': {'top': 118, 'left': 106, 'width': 52, 'height': 52}},\n",
       " {'name': None,\n",
       "  'image_id': None,\n",
       "  'confidence': 0.0,\n",
       "  'matched': False,\n",
       "  'bounding_box': {'top': 118, 'left': 549, 'width': 43, 'height': 43}},\n",
       " {'name': None,\n",
       "  'image_id': None,\n",
       "  'confidence': 0.0,\n",
       "  'matched': False,\n",
       "  'bounding_box': {'top': 166, 'left': 866, 'width': 43, 'height': 43}},\n",
       " {'name': 'George_Harrison',\n",
       "  'image_id': 'george2.jpg',\n",
       "  'confidence': 69.83,\n",
       "  'matched': True,\n",
       "  'bounding_box': {'top': 253, 'left': 563, 'width': 63, 'height': 62}},\n",
       " {'name': 'Paul_McCartney',\n",
       "  'image_id': 'paul3.jpg',\n",
       "  'confidence': 77.52,\n",
       "  'matched': True,\n",
       "  'bounding_box': {'top': 246, 'left': 287, 'width': 74, 'height': 74}},\n",
       " {'name': None,\n",
       "  'image_id': None,\n",
       "  'confidence': 0.0,\n",
       "  'matched': False,\n",
       "  'bounding_box': {'top': 204, 'left': 55, 'width': 74, 'height': 75}},\n",
       " {'name': 'John_Lennon',\n",
       "  'image_id': 'john3.jpg',\n",
       "  'confidence': 64.59,\n",
       "  'matched': True,\n",
       "  'bounding_box': {'top': 262, 'left': 63, 'width': 74, 'height': 75}},\n",
       " {'name': 'Ringo_Starr',\n",
       "  'image_id': 'ringo1.jpg',\n",
       "  'confidence': 71.33,\n",
       "  'matched': True,\n",
       "  'bounding_box': {'top': 322, 'left': 709, 'width': 62, 'height': 62}},\n",
       " {'name': None,\n",
       "  'image_id': None,\n",
       "  'confidence': 0.0,\n",
       "  'matched': False,\n",
       "  'bounding_box': {'top': 78, 'left': 803, 'width': 52, 'height': 52}}]"
      ]
     },
     "execution_count": 6,
     "metadata": {},
     "output_type": "execute_result"
    }
   ],
   "source": [
    "facebox.faces"
   ]
  },
  {
   "cell_type": "code",
   "execution_count": null,
   "metadata": {},
   "outputs": [],
   "source": []
  }
 ],
 "metadata": {
  "kernelspec": {
   "display_name": "Python 3",
   "language": "python",
   "name": "python3"
  },
  "language_info": {
   "codemirror_mode": {
    "name": "ipython",
    "version": 3
   },
   "file_extension": ".py",
   "mimetype": "text/x-python",
   "name": "python",
   "nbconvert_exporter": "python",
   "pygments_lexer": "ipython3",
   "version": "3.6.5"
  }
 },
 "nbformat": 4,
 "nbformat_minor": 2
}
