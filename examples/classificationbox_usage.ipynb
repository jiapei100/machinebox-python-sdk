{
 "cells": [
  {
   "cell_type": "markdown",
   "metadata": {},
   "source": [
    "Run Classificationbox with:\n",
    "```\n",
    "sudo docker run -p 8080:8080 -e \"MB_KEY=$MB_KEY\" machinebox/classificationbox\n",
    "```"
   ]
  },
  {
   "cell_type": "code",
   "execution_count": 14,
   "metadata": {},
   "outputs": [],
   "source": [
    "import sys\n",
    "sys.path.append(\"../\") # go to parent dir\n",
    "\n",
    "import os.path\n",
    "import requests\n",
    "import shutil\n",
    "import json\n",
    "\n",
    "from PIL import Image\n",
    "import io\n",
    "\n",
    "from machinebox.classificationbox import Classificationbox\n",
    "from machinebox.core import valid_image_file\n",
    "import matplotlib.pyplot as plt\n",
    "%matplotlib inline"
   ]
  },
  {
   "cell_type": "code",
   "execution_count": 2,
   "metadata": {},
   "outputs": [],
   "source": [
    "from pathlib import Path\n",
    "root_dir = Path(os.getcwd()).parent"
   ]
  },
  {
   "cell_type": "code",
   "execution_count": 3,
   "metadata": {},
   "outputs": [],
   "source": [
    "classificationbox = Classificationbox() # ip_address='localhosty'"
   ]
  },
  {
   "cell_type": "code",
   "execution_count": 4,
   "metadata": {},
   "outputs": [
    {
     "data": {
      "text/plain": [
       "[]"
      ]
     },
     "execution_count": 4,
     "metadata": {},
     "output_type": "execute_result"
    }
   ],
   "source": [
    "classificationbox.models"
   ]
  },
  {
   "cell_type": "code",
   "execution_count": 5,
   "metadata": {},
   "outputs": [],
   "source": [
    "file = \"dog.169.jpg\""
   ]
  },
  {
   "cell_type": "code",
   "execution_count": 6,
   "metadata": {},
   "outputs": [
    {
     "data": {
      "text/plain": [
       "True"
      ]
     },
     "execution_count": 6,
     "metadata": {},
     "output_type": "execute_result"
    }
   ],
   "source": [
    "file.endswith('jpg')"
   ]
  },
  {
   "cell_type": "code",
   "execution_count": 37,
   "metadata": {},
   "outputs": [],
   "source": [
    "def create_model(url, model_name, model_classes, username, password):\n",
    "    \"\"\"\n",
    "    Create a new model\n",
    "    \n",
    "    model_name : string, the model name.\n",
    "    model_classes : list of string, the classes the model will learn.\n",
    "    \"\"\"\n",
    "    kwargs = {}\n",
    "    if username:\n",
    "        kwargs['auth'] = requests.auth.HTTPBasicAuth(username, password)\n",
    "        \n",
    "    response = requests.post(\n",
    "        url,\n",
    "        data={\"name\": model_name, \"classes\": json.dumps(model_classes)},\n",
    " #       headers={'content-type': 'application/json', 'Accept-Charset': 'UTF-8'},\n",
    "        **kwargs\n",
    "        )\n",
    "    return response\n",
    "    "
   ]
  },
  {
   "cell_type": "code",
   "execution_count": 44,
   "metadata": {},
   "outputs": [
    {
     "name": "stdout",
     "output_type": "stream",
     "text": [
      "http://localhost:8080/classificationbox/models\n"
     ]
    }
   ],
   "source": [
    "ip_address='localhost'\n",
    "port=8080\n",
    "CLASSIFIER = 'classificationbox'\n",
    "url_models = f\"http://{ip_address}:{port}/{CLASSIFIER}/models\"\n",
    "print(url_models)\n",
    "\n",
    "model_name = \"mod1\"\n",
    "model_classes = [\"dogs\", \"cats\"]"
   ]
  },
  {
   "cell_type": "code",
   "execution_count": 45,
   "metadata": {},
   "outputs": [],
   "source": [
    "response = create_model(url_models, model_name, model_classes, None, None)"
   ]
  },
  {
   "cell_type": "code",
   "execution_count": 46,
   "metadata": {},
   "outputs": [
    {
     "data": {
      "text/plain": [
       "500"
      ]
     },
     "execution_count": 46,
     "metadata": {},
     "output_type": "execute_result"
    }
   ],
   "source": [
    "response.status_code"
   ]
  },
  {
   "cell_type": "code",
   "execution_count": 41,
   "metadata": {},
   "outputs": [
    {
     "data": {
      "text/plain": [
       "b\"invalid character 'a' in literal null (expecting 'u')\""
      ]
     },
     "execution_count": 41,
     "metadata": {},
     "output_type": "execute_result"
    }
   ],
   "source": [
    "response.content"
   ]
  },
  {
   "cell_type": "code",
   "execution_count": 42,
   "metadata": {},
   "outputs": [
    {
     "data": {
      "text/plain": [
       "'[\"dogs\", \"cats\"]'"
      ]
     },
     "execution_count": 42,
     "metadata": {},
     "output_type": "execute_result"
    }
   ],
   "source": [
    "json.dumps(model_classes)"
   ]
  },
  {
   "cell_type": "code",
   "execution_count": 43,
   "metadata": {},
   "outputs": [
    {
     "name": "stdout",
     "output_type": "stream",
     "text": [
      "{'Content-Type': 'text/plain; charset=utf-8', 'Vary': 'Origin', 'X-Machinebox-Build': '3ba550e', 'X-Machinebox-Name': 'classificationbox', 'X-Machinebox-Version': '0', 'Date': 'Wed, 28 Nov 2018 05:58:16 GMT', 'Content-Length': '53'}\n"
     ]
    }
   ],
   "source": [
    "print(response.headers)"
   ]
  },
  {
   "cell_type": "code",
   "execution_count": 47,
   "metadata": {},
   "outputs": [],
   "source": [
    "response = requests.post(url_models,\n",
    "                         data={\"name\": model_name, \"classes\": json.dumps(model_classes)})"
   ]
  },
  {
   "cell_type": "code",
   "execution_count": 48,
   "metadata": {},
   "outputs": [
    {
     "data": {
      "text/plain": [
       "<Response [500]>"
      ]
     },
     "execution_count": 48,
     "metadata": {},
     "output_type": "execute_result"
    }
   ],
   "source": [
    "response"
   ]
  },
  {
   "cell_type": "code",
   "execution_count": null,
   "metadata": {},
   "outputs": [],
   "source": []
  }
 ],
 "metadata": {
  "kernelspec": {
   "display_name": "Python 3",
   "language": "python",
   "name": "python3"
  },
  "language_info": {
   "codemirror_mode": {
    "name": "ipython",
    "version": 3
   },
   "file_extension": ".py",
   "mimetype": "text/x-python",
   "name": "python",
   "nbconvert_exporter": "python",
   "pygments_lexer": "ipython3",
   "version": "3.6.5"
  }
 },
 "nbformat": 4,
 "nbformat_minor": 2
}
